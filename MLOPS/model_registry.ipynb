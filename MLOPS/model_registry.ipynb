{
  "cells": [
    {
      "cell_type": "markdown",
      "metadata": {
        "id": "cL8iUNRkKnnN"
      },
      "source": [
        "## Instalando o MLflow"
      ]
    },
    {
      "cell_type": "code",
      "execution_count": 3,
      "metadata": {
        "id": "8ZqLomD1JbEn"
      },
      "outputs": [
        {
          "name": "stdout",
          "output_type": "stream",
          "text": [
            "^C\n"
          ]
        }
      ],
      "source": [
        "!pip install mlflow==2.2.2 -q"
      ]
    },
    {
      "cell_type": "markdown",
      "metadata": {
        "id": "jAnzWtfqKsfI"
      },
      "source": [
        "## import das bibliotecas"
      ]
    },
    {
      "cell_type": "code",
      "execution_count": 1,
      "metadata": {
        "id": "MAn3URFmJihs"
      },
      "outputs": [],
      "source": [
        "import os\n",
        "import mlflow\n",
        "import numpy as np"
      ]
    },
    {
      "cell_type": "markdown",
      "metadata": {
        "id": "PhBP5HFCKvYb"
      },
      "source": [
        "## Configurando o MLflow"
      ]
    },
    {
      "cell_type": "code",
      "execution_count": 2,
      "metadata": {
        "id": "Bu43IC6oJj1L"
      },
      "outputs": [],
      "source": [
        "MLFLOW_TRACKING_URI = 'https://dagshub.com/vitorccmanso/MLOPS.mlflow'\n",
        "MLFLOW_TRACKING_USERNAME = 'vitorccmanso'\n",
        "MLFLOW_TRACKING_PASSWORD = 'cce1df95f85a58d4ec34badf75954373327daac5'\n",
        "os.environ['MLFLOW_TRACKING_USERNAME'] = MLFLOW_TRACKING_USERNAME\n",
        "os.environ['MLFLOW_TRACKING_PASSWORD'] = MLFLOW_TRACKING_PASSWORD\n",
        "\n",
        "mlflow.set_tracking_uri(MLFLOW_TRACKING_URI)"
      ]
    },
    {
      "cell_type": "markdown",
      "metadata": {
        "id": "dbFFAEaGK0lX"
      },
      "source": [
        "## Criando um client para comunicar com o registro no DagsHub"
      ]
    },
    {
      "cell_type": "code",
      "execution_count": 3,
      "metadata": {
        "id": "wax9ipKjKShr"
      },
      "outputs": [],
      "source": [
        "client = mlflow.MlflowClient(tracking_uri=MLFLOW_TRACKING_URI)"
      ]
    },
    {
      "cell_type": "code",
      "execution_count": 4,
      "metadata": {
        "id": "fWlu0lRiLp3u"
      },
      "outputs": [
        {
          "data": {
            "text/plain": [
              "<mlflow.tracking.client.MlflowClient at 0x251fdb85d30>"
            ]
          },
          "execution_count": 4,
          "metadata": {},
          "output_type": "execute_result"
        }
      ],
      "source": [
        "client"
      ]
    },
    {
      "cell_type": "markdown",
      "metadata": {
        "id": "m1NMo6kfLBtq"
      },
      "source": [
        "## Recebendo o modelo registrado e suas versões"
      ]
    },
    {
      "cell_type": "code",
      "execution_count": 6,
      "metadata": {
        "id": "8oSsyfv0K6j5"
      },
      "outputs": [],
      "source": [
        "registered_model = client.get_registered_model('fetal_health')"
      ]
    },
    {
      "cell_type": "code",
      "execution_count": 7,
      "metadata": {
        "id": "e2DDK_6_LPi5"
      },
      "outputs": [
        {
          "data": {
            "text/plain": [
              "[<ModelVersion: creation_timestamp=1705591125225, current_stage='None', description='', last_updated_timestamp=1705591125225, name='fetal_health', run_id='371372127b7c46a596cb2439121f7976', run_link='', source='mlflow-artifacts:/21c511163391466e88e72afe436c94a7/371372127b7c46a596cb2439121f7976/artifacts/model', status='READY', status_message='', tags={}, user_id='', version='2'>]"
            ]
          },
          "execution_count": 7,
          "metadata": {},
          "output_type": "execute_result"
        }
      ],
      "source": [
        "registered_model.latest_versions"
      ]
    },
    {
      "cell_type": "markdown",
      "metadata": {
        "id": "DfBd2wRdLRPC"
      },
      "source": [
        "## Obtendo o id da execução do modelo"
      ]
    },
    {
      "cell_type": "code",
      "execution_count": 8,
      "metadata": {
        "id": "HG-BzNlkK9oC"
      },
      "outputs": [],
      "source": [
        "run_id = registered_model.latest_versions[-1].run_id"
      ]
    },
    {
      "cell_type": "markdown",
      "metadata": {
        "id": "WORhnvgnLYrX"
      },
      "source": [
        "## Carregando o modelo"
      ]
    },
    {
      "cell_type": "code",
      "execution_count": 9,
      "metadata": {
        "id": "xa1ZTR6OK_hg"
      },
      "outputs": [
        {
          "name": "stderr",
          "output_type": "stream",
          "text": [
            "c:\\Users\\VITOR\\anaconda3\\envs\\ead-env\\lib\\site-packages\\keras\\backend.py:451: UserWarning: `tf.keras.backend.set_learning_phase` is deprecated and will be removed after 2020-10-11. To update it, simply pass a True/False value to the `training` argument of the `__call__` method of your layer or model.\n",
            "  warnings.warn(\n"
          ]
        }
      ],
      "source": [
        "logged_model = f'runs:/{run_id}/model'\n",
        "loaded_model = mlflow.pyfunc.load_model(logged_model)"
      ]
    },
    {
      "cell_type": "markdown",
      "metadata": {
        "id": "IQBbf3xULc1A"
      },
      "source": [
        "## Fazendo uma predição com o modelo carregadO"
      ]
    },
    {
      "cell_type": "code",
      "execution_count": 10,
      "metadata": {
        "id": "SwbDW9aLJziQ"
      },
      "outputs": [],
      "source": [
        "accelerations = 0\n",
        "fetal_movement = 0\n",
        "uterine_contractions = 0\n",
        "severe_decelerations = 0"
      ]
    },
    {
      "cell_type": "code",
      "execution_count": 11,
      "metadata": {
        "id": "s-Ed15fsJv5k"
      },
      "outputs": [],
      "source": [
        "received_data = np.array([\n",
        "        accelerations,\n",
        "        fetal_movement,\n",
        "        uterine_contractions,\n",
        "        severe_decelerations,\n",
        "    ]).reshape(1, -1)"
      ]
    },
    {
      "cell_type": "code",
      "execution_count": 12,
      "metadata": {
        "id": "Mpc1_Y57J_xV"
      },
      "outputs": [
        {
          "data": {
            "text/plain": [
              "array([[0, 0, 0, 0]])"
            ]
          },
          "execution_count": 12,
          "metadata": {},
          "output_type": "execute_result"
        }
      ],
      "source": [
        "received_data"
      ]
    },
    {
      "cell_type": "code",
      "execution_count": 13,
      "metadata": {
        "id": "lV6gcA8dJmX0"
      },
      "outputs": [
        {
          "name": "stdout",
          "output_type": "stream",
          "text": [
            "1/1 [==============================] - 0s 347ms/step\n"
          ]
        },
        {
          "data": {
            "text/plain": [
              "array([[0.97320765, 0.01610816, 0.01068418]], dtype=float32)"
            ]
          },
          "execution_count": 13,
          "metadata": {},
          "output_type": "execute_result"
        }
      ],
      "source": [
        "loaded_model.predict(received_data)"
      ]
    },
    {
      "cell_type": "code",
      "execution_count": null,
      "metadata": {
        "id": "k3qYyLsyKDVb"
      },
      "outputs": [],
      "source": []
    }
  ],
  "metadata": {
    "colab": {
      "provenance": []
    },
    "kernelspec": {
      "display_name": "Python 3",
      "name": "python3"
    },
    "language_info": {
      "codemirror_mode": {
        "name": "ipython",
        "version": 3
      },
      "file_extension": ".py",
      "mimetype": "text/x-python",
      "name": "python",
      "nbconvert_exporter": "python",
      "pygments_lexer": "ipython3",
      "version": "3.9.18"
    }
  },
  "nbformat": 4,
  "nbformat_minor": 0
}
